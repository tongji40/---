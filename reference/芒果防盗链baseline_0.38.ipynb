{
 "cells": [
  {
   "cell_type": "code",
   "execution_count": 18,
   "metadata": {},
   "outputs": [],
   "source": [
    "import pandas as pd\n",
    "import time\n",
    "import json\n",
    "import time"
   ]
  },
  {
   "cell_type": "code",
   "execution_count": 2,
   "metadata": {},
   "outputs": [],
   "source": [
    "%% time\n",
    "data=[]\n",
    "with open('a.txt',\"r\") as f:\n",
    "     for i,line in enumerate(f.readlines()):\n",
    "            res=json.loads(line.strip())\n",
    "            if len(res)==13:\n",
    "                data.append(res)\n",
    "\n",
    "# col=[\"remote_addr\", \"time_iso8601\", \"status\", \"file\", \"body_bytes_sent\", \"request_time\", \"uuid\", \"http_referer\", \"http_user_agent\", \"http_x_forwarded_for\", \"pno\", \"ld\", \"auth_ret\"]             \n",
    "# df=pd.DataFrame(data,columns=col)\n",
    "# del data"
   ]
  },
  {
   "cell_type": "code",
   "execution_count": 3,
   "metadata": {},
   "outputs": [],
   "source": [
    "# data=[]\n",
    "with open('a-test.txt',\"r\") as f:\n",
    "     for i,line in enumerate(f.readlines()):\n",
    "            res=json.loads(line.strip())\n",
    "            if len(res)==12:\n",
    "                res.append(\"-1\")\n",
    "                data.append(res)\n",
    "col=[\"remote_addr\", \"time_iso8601\", \"status\", \"file\", \"body_bytes_sent\", \"request_time\", \"uuid\", \"http_referer\", \"http_user_agent\", \"http_x_forwarded_for\", \"pno\", \"ld\", \"auth_ret\"]                     \n"
   ]
  },
  {
   "cell_type": "code",
   "execution_count": 4,
   "metadata": {},
   "outputs": [],
   "source": [
    "dd=pd.DataFrame(data,columns=col)\n",
    "del data"
   ]
  },
  {
   "cell_type": "code",
   "execution_count": 5,
   "metadata": {},
   "outputs": [],
   "source": [
    "df=dd[:2000]"
   ]
  },
  {
   "cell_type": "code",
   "execution_count": 21,
   "metadata": {},
   "outputs": [],
   "source": [
    "def get_file_day(x):\n",
    "    tem=x.split(\"/\")\n",
    "    for i,j in enumerate(tem):\n",
    "        if j[:2]==\"20\":\n",
    "            try:\n",
    "                date=tem[i]+\"-\"+tem[i+1]+\"-\"+tem[i+2].split(\"_\")[0]\n",
    "                time.strptime(date, \"%Y-%m-%d\")\n",
    "                return date\n",
    "            except:\n",
    "                return 2\n",
    "    return \n",
    "        \n",
    "        \n",
    "dd['file_day1']=dd['file'].apply(get_file_day)"
   ]
  },
  {
   "cell_type": "code",
   "execution_count": 24,
   "metadata": {},
   "outputs": [],
   "source": [
    "def get_file_day2(x):\n",
    "    tem=x.split(\"/\")\n",
    "    for i,j in enumerate(tem):\n",
    "        if len(j)>15:\n",
    "            try:\n",
    "                cc=j.split(\"_\")[1]\n",
    "                date=cc[:4]+\"-\"+cc[4:6]+\"-\"+cc[6:]\n",
    "                time.strptime(date, \"%Y-%m-%d\")\n",
    "                return date\n",
    "            except:\n",
    "                return \n",
    "    return \n",
    "        \n",
    "        \n",
    "dd['file_day2']=dd['file'].apply(get_file_day2)"
   ]
  },
  {
   "cell_type": "code",
   "execution_count": 26,
   "metadata": {},
   "outputs": [],
   "source": [
    "def get_file_type(x):\n",
    "    tem=x.split(\"/\")\n",
    "    return tem[-2].split(\"_\")[-1]\n",
    "    \n",
    "    \n",
    "\n",
    "dd['file_type']=dd['file'].apply(get_file_type)"
   ]
  },
  {
   "cell_type": "code",
   "execution_count": 27,
   "metadata": {},
   "outputs": [],
   "source": [
    "dd['file_type']=dd['file_type'].apply(lambda x:  \"N\" if len(x)>10 else x)"
   ]
  },
  {
   "cell_type": "code",
   "execution_count": 28,
   "metadata": {},
   "outputs": [],
   "source": [
    "col=dd.columns.tolist()\n",
    "col.remove('file')\n",
    "col.remove(\"uuid\")"
   ]
  },
  {
   "cell_type": "code",
   "execution_count": 29,
   "metadata": {},
   "outputs": [],
   "source": [
    "dd=dd[col]"
   ]
  },
  {
   "cell_type": "code",
   "execution_count": 30,
   "metadata": {},
   "outputs": [],
   "source": [
    "dd[\"day\"]=dd[\"time_iso8601\"].apply(lambda x:x[:10])"
   ]
  },
  {
   "cell_type": "code",
   "execution_count": 31,
   "metadata": {},
   "outputs": [],
   "source": [
    "dd[\"H\"]=dd[\"time_iso8601\"].apply(lambda x:x[11:13])"
   ]
  },
  {
   "cell_type": "code",
   "execution_count": 32,
   "metadata": {},
   "outputs": [],
   "source": [
    "dd[\"time\"]=dd[\"time_iso8601\"].apply(lambda x:x[11:19])"
   ]
  },
  {
   "cell_type": "code",
   "execution_count": 33,
   "metadata": {},
   "outputs": [],
   "source": [
    "dd[\"minute\"]=dd[\"time_iso8601\"].apply(lambda x:x[11:16])"
   ]
  },
  {
   "cell_type": "code",
   "execution_count": 34,
   "metadata": {},
   "outputs": [],
   "source": [
    "dd['http_x_forwarded_for']=dd['http_x_forwarded_for'].apply(lambda x:0 if x==\"-\" else 1)"
   ]
  },
  {
   "cell_type": "code",
   "execution_count": 25,
   "metadata": {},
   "outputs": [
    {
     "data": {
      "text/plain": [
       "2570597"
      ]
     },
     "execution_count": 25,
     "metadata": {},
     "output_type": "execute_result"
    }
   ],
   "source": [
    "dd['http_x_forwarded_for'].nunique()"
   ]
  },
  {
   "cell_type": "code",
   "execution_count": 35,
   "metadata": {},
   "outputs": [],
   "source": [
    "dd=dd.drop([\"time_iso8601\"],axis=1)"
   ]
  },
  {
   "cell_type": "code",
   "execution_count": 36,
   "metadata": {},
   "outputs": [],
   "source": [
    "##count特征\n",
    "for i in ['H',\"minute\",\"day\",\"file_day1\",\"file_day2\",'http_user_agent',\"http_referer\",\"remote_addr\",\"time\"]:\n",
    "    col=i+\"count\"\n",
    "    dd[col]=dd[i].map(dd.groupby([i])['pno'].count())"
   ]
  },
  {
   "cell_type": "code",
   "execution_count": 37,
   "metadata": {},
   "outputs": [],
   "source": [
    "dd=dd.drop([\"http_user_agent\",\"remote_addr\"],axis=1)"
   ]
  },
  {
   "cell_type": "code",
   "execution_count": null,
   "metadata": {},
   "outputs": [],
   "source": [
    "dd[\"day=day1\"]=(dd['day']==dd['file_day1']).astype(int)\n",
    "dd[\"day=day2\"]=(dd['day']==dd['file_day2']).astype(int)\n",
    "dd[\"day1=day2\"]=(dd['file_day2']==dd['file_day1']).astype(int)\n",
    "\n"
   ]
  },
  {
   "cell_type": "code",
   "execution_count": 39,
   "metadata": {},
   "outputs": [],
   "source": [
    "dd['auth_ret']=dd['auth_ret'].astype(int)\n",
    "dd['request_time']=dd['request_time'].astype(float)"
   ]
  },
  {
   "cell_type": "code",
   "execution_count": 41,
   "metadata": {},
   "outputs": [],
   "source": [
    "for i in dd.columns:\n",
    "    if dd[i].dtype==\"object\":\n",
    "        dd[i]=dd[i].astype('category')"
   ]
  },
  {
   "cell_type": "code",
   "execution_count": 1,
   "metadata": {},
   "outputs": [],
   "source": [
    "\n",
    "fea=[col for col in dd.columns if col not in ['auth_ret']]"
   ]
  },
  {
   "cell_type": "code",
   "execution_count": 2,
   "metadata": {},
   "outputs": [],
   "source": [
    "for i in dd.columns:\n",
    "    if dd[i].dtype==\"object\":\n",
    "        dd[i]=dd[i].astype('category')"
   ]
  },
  {
   "cell_type": "code",
   "execution_count": 3,
   "metadata": {},
   "outputs": [],
   "source": [
    "import time\n",
    "import lightgbm as lgb\n",
    "import matplotlib.pyplot as plt\n",
    "import numpy as np\n",
    "import pandas as pd\n",
    "import seaborn as sns\n",
    "import xgboost as xgb\n",
    "from catboost import CatBoostClassifier\n",
    "from sklearn import metrics\n",
    "from sklearn.model_selection import StratifiedKFold\n",
    "import argparse\n",
    "import tqdm\n",
    "from sklearn.metrics import roc_auc_score"
   ]
  },
  {
   "cell_type": "code",
   "execution_count": 4,
   "metadata": {},
   "outputs": [],
   "source": [
    "parameters = {\n",
    "    'learning_rate': 0.03,\n",
    "    'boosting_type': 'gbdt',\n",
    "    'objective': 'binary',\n",
    "    'metric': 'auc',\n",
    "    'num_leaves': 32,\n",
    "    'feature_fraction': 0.8,\n",
    "    'bagging_fraction': 0.8,\n",
    "    'bagging_freq': 5,\n",
    "    'seed': 2020,\n",
    "    'bagging_seed': 1,\n",
    "    'feature_fraction_seed': 7,\n",
    "    'min_data_in_leaf': 20,\n",
    "    'n_jobs': -1, \n",
    "    'verbose': -1,\n",
    "}"
   ]
  },
  {
   "cell_type": "code",
   "execution_count": 5,
   "metadata": {},
   "outputs": [
    {
     "name": "stderr",
     "output_type": "stream",
     "text": [
      "d:\\python\\lib\\site-packages\\lightgbm\\basic.py:681: UserWarning: categorical_feature in param dict is overridden.\n",
      "  warnings.warn('categorical_feature in param dict is overridden.')\n"
     ]
    },
    {
     "name": "stdout",
     "output_type": "stream",
     "text": [
      "Training until validation scores don't improve for 50 rounds.\n",
      "[50]\tvalid_0's auc: 0.722204\n",
      "[100]\tvalid_0's auc: 0.731251\n",
      "[150]\tvalid_0's auc: 0.737585\n",
      "[200]\tvalid_0's auc: 0.741632\n",
      "[250]\tvalid_0's auc: 0.744458\n",
      "[300]\tvalid_0's auc: 0.746126\n",
      "[350]\tvalid_0's auc: 0.747191\n",
      "[400]\tvalid_0's auc: 0.747946\n",
      "[450]\tvalid_0's auc: 0.748561\n",
      "[500]\tvalid_0's auc: 0.749098\n",
      "[550]\tvalid_0's auc: 0.749528\n",
      "[600]\tvalid_0's auc: 0.74988\n",
      "[650]\tvalid_0's auc: 0.750202\n",
      "[700]\tvalid_0's auc: 0.75055\n",
      "[750]\tvalid_0's auc: 0.750811\n",
      "[800]\tvalid_0's auc: 0.751123\n",
      "[850]\tvalid_0's auc: 0.751348\n",
      "[900]\tvalid_0's auc: 0.751484\n",
      "[950]\tvalid_0's auc: 0.751755\n",
      "[1000]\tvalid_0's auc: 0.752012\n",
      "[1050]\tvalid_0's auc: 0.752098\n",
      "[1100]\tvalid_0's auc: 0.75225\n",
      "[1150]\tvalid_0's auc: 0.752458\n",
      "[1200]\tvalid_0's auc: 0.752538\n",
      "[1250]\tvalid_0's auc: 0.752745\n",
      "[1300]\tvalid_0's auc: 0.752805\n",
      "[1350]\tvalid_0's auc: 0.752849\n",
      "[1400]\tvalid_0's auc: 0.752957\n",
      "[1450]\tvalid_0's auc: 0.753115\n",
      "[1500]\tvalid_0's auc: 0.75314\n",
      "[1550]\tvalid_0's auc: 0.753195\n",
      "[1600]\tvalid_0's auc: 0.753236\n",
      "[1650]\tvalid_0's auc: 0.75333\n",
      "[1700]\tvalid_0's auc: 0.753379\n",
      "[1750]\tvalid_0's auc: 0.753528\n",
      "[1800]\tvalid_0's auc: 0.753557\n",
      "[1850]\tvalid_0's auc: 0.753592\n",
      "[1900]\tvalid_0's auc: 0.753623\n",
      "[1950]\tvalid_0's auc: 0.753662\n",
      "[2000]\tvalid_0's auc: 0.753704\n",
      "[2050]\tvalid_0's auc: 0.753802\n",
      "[2100]\tvalid_0's auc: 0.753904\n",
      "[2150]\tvalid_0's auc: 0.753963\n",
      "[2200]\tvalid_0's auc: 0.754016\n",
      "[2250]\tvalid_0's auc: 0.754045\n",
      "[2300]\tvalid_0's auc: 0.754072\n",
      "[2350]\tvalid_0's auc: 0.754091\n",
      "[2400]\tvalid_0's auc: 0.754132\n",
      "Early stopping, best iteration is:\n",
      "[2395]\tvalid_0's auc: 0.754138\n",
      "Training until validation scores don't improve for 50 rounds.\n",
      "[50]\tvalid_0's auc: 0.72233\n",
      "[100]\tvalid_0's auc: 0.731461\n",
      "[150]\tvalid_0's auc: 0.738154\n",
      "[200]\tvalid_0's auc: 0.742312\n",
      "[250]\tvalid_0's auc: 0.745161\n",
      "[300]\tvalid_0's auc: 0.74692\n",
      "[350]\tvalid_0's auc: 0.748042\n",
      "[400]\tvalid_0's auc: 0.748593\n",
      "[450]\tvalid_0's auc: 0.749141\n",
      "[500]\tvalid_0's auc: 0.749717\n",
      "[550]\tvalid_0's auc: 0.750082\n",
      "[600]\tvalid_0's auc: 0.750524\n",
      "[650]\tvalid_0's auc: 0.750921\n",
      "[700]\tvalid_0's auc: 0.75136\n",
      "[750]\tvalid_0's auc: 0.751516\n",
      "[800]\tvalid_0's auc: 0.75173\n",
      "[850]\tvalid_0's auc: 0.752004\n",
      "[900]\tvalid_0's auc: 0.752162\n",
      "[950]\tvalid_0's auc: 0.752494\n",
      "[1000]\tvalid_0's auc: 0.752712\n",
      "[1050]\tvalid_0's auc: 0.752792\n",
      "[1100]\tvalid_0's auc: 0.752885\n",
      "[1150]\tvalid_0's auc: 0.753113\n",
      "[1200]\tvalid_0's auc: 0.753211\n",
      "[1250]\tvalid_0's auc: 0.753341\n",
      "[1300]\tvalid_0's auc: 0.753479\n",
      "[1350]\tvalid_0's auc: 0.753592\n",
      "[1400]\tvalid_0's auc: 0.753649\n",
      "[1450]\tvalid_0's auc: 0.753755\n",
      "[1500]\tvalid_0's auc: 0.753793\n",
      "[1550]\tvalid_0's auc: 0.753889\n",
      "[1600]\tvalid_0's auc: 0.753959\n",
      "[1650]\tvalid_0's auc: 0.754063\n",
      "[1700]\tvalid_0's auc: 0.754097\n",
      "[1750]\tvalid_0's auc: 0.754219\n",
      "[1800]\tvalid_0's auc: 0.754257\n",
      "[1850]\tvalid_0's auc: 0.754294\n",
      "[1900]\tvalid_0's auc: 0.754316\n",
      "[1950]\tvalid_0's auc: 0.754355\n",
      "[2000]\tvalid_0's auc: 0.754403\n",
      "[2050]\tvalid_0's auc: 0.754483\n",
      "[2100]\tvalid_0's auc: 0.754542\n",
      "[2150]\tvalid_0's auc: 0.75459\n",
      "[2200]\tvalid_0's auc: 0.754619\n",
      "[2250]\tvalid_0's auc: 0.754668\n",
      "[2300]\tvalid_0's auc: 0.754727\n",
      "[2350]\tvalid_0's auc: 0.754749\n",
      "[2400]\tvalid_0's auc: 0.754761\n",
      "[2450]\tvalid_0's auc: 0.754796\n",
      "[2500]\tvalid_0's auc: 0.754816\n",
      "[2550]\tvalid_0's auc: 0.754845\n",
      "[2600]\tvalid_0's auc: 0.754879\n",
      "[2650]\tvalid_0's auc: 0.754908\n",
      "[2700]\tvalid_0's auc: 0.754911\n",
      "[2750]\tvalid_0's auc: 0.754913\n",
      "Early stopping, best iteration is:\n",
      "[2724]\tvalid_0's auc: 0.75493\n",
      "Training until validation scores don't improve for 50 rounds.\n",
      "[50]\tvalid_0's auc: 0.722768\n",
      "[100]\tvalid_0's auc: 0.732137\n",
      "[150]\tvalid_0's auc: 0.738159\n",
      "[200]\tvalid_0's auc: 0.742422\n",
      "[250]\tvalid_0's auc: 0.745022\n",
      "[300]\tvalid_0's auc: 0.74673\n",
      "[350]\tvalid_0's auc: 0.747645\n",
      "[400]\tvalid_0's auc: 0.748579\n",
      "[450]\tvalid_0's auc: 0.749158\n",
      "[500]\tvalid_0's auc: 0.749728\n",
      "[550]\tvalid_0's auc: 0.75011\n",
      "[600]\tvalid_0's auc: 0.750597\n",
      "[650]\tvalid_0's auc: 0.751005\n",
      "[700]\tvalid_0's auc: 0.751217\n",
      "[750]\tvalid_0's auc: 0.75141\n",
      "[800]\tvalid_0's auc: 0.751611\n",
      "[850]\tvalid_0's auc: 0.751819\n",
      "[900]\tvalid_0's auc: 0.751909\n",
      "[950]\tvalid_0's auc: 0.752096\n",
      "[1000]\tvalid_0's auc: 0.752341\n",
      "[1050]\tvalid_0's auc: 0.752486\n",
      "[1100]\tvalid_0's auc: 0.752647\n",
      "[1150]\tvalid_0's auc: 0.752844\n",
      "[1200]\tvalid_0's auc: 0.752914\n",
      "[1250]\tvalid_0's auc: 0.753033\n",
      "[1300]\tvalid_0's auc: 0.753122\n",
      "[1350]\tvalid_0's auc: 0.75316\n",
      "[1400]\tvalid_0's auc: 0.753262\n",
      "[1450]\tvalid_0's auc: 0.753366\n",
      "[1500]\tvalid_0's auc: 0.753433\n",
      "[1550]\tvalid_0's auc: 0.753617\n",
      "[1600]\tvalid_0's auc: 0.753692\n",
      "[1650]\tvalid_0's auc: 0.75379\n",
      "[1700]\tvalid_0's auc: 0.753863\n",
      "[1750]\tvalid_0's auc: 0.754004\n",
      "[1800]\tvalid_0's auc: 0.754026\n",
      "[1850]\tvalid_0's auc: 0.75407\n",
      "[1900]\tvalid_0's auc: 0.754142\n",
      "[1950]\tvalid_0's auc: 0.754173\n",
      "[2000]\tvalid_0's auc: 0.75422\n",
      "[2050]\tvalid_0's auc: 0.754259\n",
      "[2100]\tvalid_0's auc: 0.754331\n",
      "[2150]\tvalid_0's auc: 0.754384\n",
      "[2200]\tvalid_0's auc: 0.754426\n",
      "[2250]\tvalid_0's auc: 0.75446\n",
      "[2300]\tvalid_0's auc: 0.754482\n",
      "[2350]\tvalid_0's auc: 0.754524\n",
      "[2400]\tvalid_0's auc: 0.754565\n",
      "[2450]\tvalid_0's auc: 0.75457\n",
      "Early stopping, best iteration is:\n",
      "[2418]\tvalid_0's auc: 0.75458\n",
      "Training until validation scores don't improve for 50 rounds.\n",
      "[50]\tvalid_0's auc: 0.722699\n",
      "[100]\tvalid_0's auc: 0.731812\n",
      "[150]\tvalid_0's auc: 0.738321\n",
      "[200]\tvalid_0's auc: 0.742539\n",
      "[250]\tvalid_0's auc: 0.74541\n",
      "[300]\tvalid_0's auc: 0.746949\n",
      "[350]\tvalid_0's auc: 0.748035\n",
      "[400]\tvalid_0's auc: 0.748775\n",
      "[450]\tvalid_0's auc: 0.749134\n",
      "[500]\tvalid_0's auc: 0.749597\n",
      "[550]\tvalid_0's auc: 0.749982\n",
      "[600]\tvalid_0's auc: 0.750407\n",
      "[650]\tvalid_0's auc: 0.750822\n",
      "[700]\tvalid_0's auc: 0.751093\n",
      "[750]\tvalid_0's auc: 0.751375\n",
      "[800]\tvalid_0's auc: 0.751651\n",
      "[850]\tvalid_0's auc: 0.751933\n",
      "[900]\tvalid_0's auc: 0.752112\n",
      "[950]\tvalid_0's auc: 0.752382\n",
      "[1000]\tvalid_0's auc: 0.752613\n",
      "[1050]\tvalid_0's auc: 0.752702\n",
      "[1100]\tvalid_0's auc: 0.752847\n",
      "[1150]\tvalid_0's auc: 0.753108\n",
      "[1200]\tvalid_0's auc: 0.753216\n",
      "[1250]\tvalid_0's auc: 0.753337\n",
      "[1300]\tvalid_0's auc: 0.753455\n",
      "[1350]\tvalid_0's auc: 0.753607\n",
      "[1400]\tvalid_0's auc: 0.753705\n",
      "[1450]\tvalid_0's auc: 0.75383\n",
      "[1500]\tvalid_0's auc: 0.753919\n",
      "[1550]\tvalid_0's auc: 0.754065\n",
      "[1600]\tvalid_0's auc: 0.754171\n",
      "[1650]\tvalid_0's auc: 0.754211\n",
      "[1700]\tvalid_0's auc: 0.754298\n",
      "[1750]\tvalid_0's auc: 0.754384\n",
      "[1800]\tvalid_0's auc: 0.75442\n",
      "[1850]\tvalid_0's auc: 0.754479\n",
      "[1900]\tvalid_0's auc: 0.754567\n",
      "[1950]\tvalid_0's auc: 0.754621\n",
      "[2000]\tvalid_0's auc: 0.754636\n",
      "[2050]\tvalid_0's auc: 0.754707\n",
      "[2100]\tvalid_0's auc: 0.754745\n",
      "[2150]\tvalid_0's auc: 0.754785\n",
      "[2200]\tvalid_0's auc: 0.754822\n",
      "[2250]\tvalid_0's auc: 0.754894\n",
      "[2300]\tvalid_0's auc: 0.754911\n",
      "[2350]\tvalid_0's auc: 0.754925\n",
      "[2400]\tvalid_0's auc: 0.754989\n",
      "[2450]\tvalid_0's auc: 0.754985\n",
      "Early stopping, best iteration is:\n",
      "[2419]\tvalid_0's auc: 0.754993\n",
      "Training until validation scores don't improve for 50 rounds.\n",
      "[50]\tvalid_0's auc: 0.722363\n",
      "[100]\tvalid_0's auc: 0.731763\n",
      "[150]\tvalid_0's auc: 0.738351\n",
      "[200]\tvalid_0's auc: 0.742409\n",
      "[250]\tvalid_0's auc: 0.745076\n",
      "[300]\tvalid_0's auc: 0.746833\n",
      "[350]\tvalid_0's auc: 0.747993\n",
      "[400]\tvalid_0's auc: 0.748779\n",
      "[450]\tvalid_0's auc: 0.749305\n",
      "[500]\tvalid_0's auc: 0.74988\n",
      "[550]\tvalid_0's auc: 0.750199\n",
      "[600]\tvalid_0's auc: 0.750737\n",
      "[650]\tvalid_0's auc: 0.75102\n",
      "[700]\tvalid_0's auc: 0.751299\n",
      "[750]\tvalid_0's auc: 0.751663\n",
      "[800]\tvalid_0's auc: 0.751851\n",
      "[850]\tvalid_0's auc: 0.752157\n",
      "[900]\tvalid_0's auc: 0.752386\n",
      "[950]\tvalid_0's auc: 0.752558\n",
      "[1000]\tvalid_0's auc: 0.752829\n",
      "[1050]\tvalid_0's auc: 0.752926\n",
      "[1100]\tvalid_0's auc: 0.753051\n",
      "[1150]\tvalid_0's auc: 0.753278\n",
      "[1200]\tvalid_0's auc: 0.753407\n",
      "[1250]\tvalid_0's auc: 0.753596\n",
      "[1300]\tvalid_0's auc: 0.753691\n",
      "[1350]\tvalid_0's auc: 0.753838\n",
      "[1400]\tvalid_0's auc: 0.753877\n",
      "[1450]\tvalid_0's auc: 0.753986\n",
      "[1500]\tvalid_0's auc: 0.754048\n",
      "[1550]\tvalid_0's auc: 0.75421\n",
      "[1600]\tvalid_0's auc: 0.754292\n",
      "[1650]\tvalid_0's auc: 0.754432\n",
      "[1700]\tvalid_0's auc: 0.754517\n",
      "[1750]\tvalid_0's auc: 0.754614\n",
      "[1800]\tvalid_0's auc: 0.754703\n",
      "[1850]\tvalid_0's auc: 0.754714\n",
      "[1900]\tvalid_0's auc: 0.754776\n",
      "[1950]\tvalid_0's auc: 0.754868\n",
      "[2000]\tvalid_0's auc: 0.754954\n",
      "[2050]\tvalid_0's auc: 0.755006\n",
      "[2100]\tvalid_0's auc: 0.75505\n",
      "[2150]\tvalid_0's auc: 0.755112\n",
      "[2200]\tvalid_0's auc: 0.755145\n",
      "[2250]\tvalid_0's auc: 0.755181\n",
      "[2300]\tvalid_0's auc: 0.7552\n",
      "[2350]\tvalid_0's auc: 0.755229\n",
      "[2400]\tvalid_0's auc: 0.755298\n",
      "[2450]\tvalid_0's auc: 0.755307\n"
     ]
    },
    {
     "name": "stdout",
     "output_type": "stream",
     "text": [
      "[2500]\tvalid_0's auc: 0.755296\n",
      "[2550]\tvalid_0's auc: 0.755396\n",
      "[2600]\tvalid_0's auc: 0.755392\n",
      "[2650]\tvalid_0's auc: 0.755419\n",
      "[2700]\tvalid_0's auc: 0.755423\n",
      "Early stopping, best iteration is:\n",
      "[2673]\tvalid_0's auc: 0.755433\n"
     ]
    },
    {
     "data": {
      "text/plain": [
       "0.7548144126643744"
      ]
     },
     "execution_count": 5,
     "metadata": {},
     "output_type": "execute_result"
    }
   ],
   "source": [
    "skf = StratifiedKFold(n_splits=5, random_state=1996, shuffle=True)\n",
    "X_train=dd[dd['auth_ret']!=-1].reset_index(drop=True)\n",
    "X_test=dd[dd['auth_ret']==-1].reset_index(drop=True)\n",
    "del dd\n",
    "\n",
    "y=X_train.auth_ret\n",
    "X_train=X_train[fea]\n",
    "X_test=X_test[fea]\n",
    "\n",
    "oof = np.zeros(X_train.shape[0])\n",
    "prediction = np.zeros(X_test.shape[0])\n",
    "\n",
    "# del X_train\n",
    "# del X_test\n",
    "\n",
    "\n",
    "\n",
    "\n",
    "for index, (train_index, test_index) in enumerate(skf.split(X_train, y)):\n",
    "    train_x, test_x, train_y, test_y = X_train.iloc[train_index], X_train.iloc[\n",
    "            test_index], y.iloc[train_index], y.iloc[test_index]\n",
    "    dtrain = lgb.Dataset(train_x, label=train_y)\n",
    "    dval = lgb.Dataset(test_x, label=test_y)\n",
    "    lgb_model = lgb.train(\n",
    "            parameters,\n",
    "            dtrain,\n",
    "            num_boost_round=10000,\n",
    "            valid_sets=[dval],\n",
    "            early_stopping_rounds=50,\n",
    "            verbose_eval=50,\n",
    "            #feval=myeval,\n",
    "        )\n",
    "    x2 = lgb_model.predict(test_x, num_iteration=lgb_model.best_iteration)\n",
    "    y2 = lgb_model.predict(X_test, num_iteration=lgb_model.best_iteration)\n",
    "    oof[test_index] += x2\n",
    "    prediction+= y2 / 5\n",
    "roc_auc_score(y,oof)"
   ]
  },
  {
   "cell_type": "code",
   "execution_count": null,
   "metadata": {},
   "outputs": [],
   "source": []
  }
 ],
 "metadata": {
  "kernelspec": {
   "display_name": "Python 3",
   "language": "python",
   "name": "python3"
  },
  "language_info": {
   "codemirror_mode": {
    "name": "ipython",
    "version": 3
   },
   "file_extension": ".py",
   "mimetype": "text/x-python",
   "name": "python",
   "nbconvert_exporter": "python",
   "pygments_lexer": "ipython3",
   "version": "3.6.8"
  }
 },
 "nbformat": 4,
 "nbformat_minor": 4
}
